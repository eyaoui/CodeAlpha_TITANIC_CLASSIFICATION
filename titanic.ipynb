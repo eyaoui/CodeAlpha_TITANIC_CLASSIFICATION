{
  "nbformat": 4,
  "nbformat_minor": 0,
  "metadata": {
    "colab": {
      "private_outputs": true,
      "provenance": [],
      "authorship_tag": "ABX9TyPhMutEE23BqwvxMFYUOaNK",
      "include_colab_link": true
    },
    "kernelspec": {
      "name": "python3",
      "display_name": "Python 3"
    },
    "language_info": {
      "name": "python"
    }
  },
  "cells": [
    {
      "cell_type": "markdown",
      "metadata": {
        "id": "view-in-github",
        "colab_type": "text"
      },
      "source": [
        "<a href=\"https://colab.research.google.com/github/eyaoui/CodeAlpha_TITANIC_CLASSIFICATION/blob/main/titanic.ipynb\" target=\"_parent\"><img src=\"https://colab.research.google.com/assets/colab-badge.svg\" alt=\"Open In Colab\"/></a>"
      ]
    },
    {
      "cell_type": "code",
      "source": [
        "import pandas as pd\n",
        "from sklearn.model_selection import train_test_split\n",
        "from sklearn.ensemble import RandomForestClassifier\n",
        "from sklearn.metrics import accuracy_score, classification_report\n"
      ],
      "metadata": {
        "id": "joY42crvJDxT"
      },
      "execution_count": null,
      "outputs": []
    },
    {
      "cell_type": "code",
      "execution_count": null,
      "metadata": {
        "id": "qSzIky22AnvR"
      },
      "outputs": [],
      "source": [
        "\n",
        "# Load the dataset\n",
        "data = pd.read_csv('/content/T.csv')\n",
        "\n",
        "\n",
        "\n"
      ]
    },
    {
      "cell_type": "code",
      "source": [
        "print(data.columns)"
      ],
      "metadata": {
        "id": "67cgPw-cBeFT"
      },
      "execution_count": null,
      "outputs": []
    },
    {
      "cell_type": "code",
      "source": [
        "# Rename the '2urvived' column to 'Survived'\n",
        "data.rename(columns={'2urvived': 'Survived'}, inplace=True)\n",
        "\n",
        "# Select the relevant columns\n",
        "data = data[['Passengerid', 'Age', 'Fare', 'Sex', 'sibsp', 'Parch', 'Pclass', 'Embarked', 'Survived']]\n",
        "\n",
        "# Handle missing values\n",
        "data['Age'].fillna(data['Age'].mean(), inplace=True)\n",
        "data['Embarked'].fillna(data['Embarked'].mode()[0], inplace=True)\n",
        "\n",
        "# Convert categorical variables\n",
        "data = pd.get_dummies(data, columns=['Sex', 'Embarked'], drop_first=True)"
      ],
      "metadata": {
        "id": "RdOaHjQ2JNVE"
      },
      "execution_count": null,
      "outputs": []
    },
    {
      "cell_type": "code",
      "source": [
        "print(data.columns)"
      ],
      "metadata": {
        "id": "i6dqlG6rJPYj"
      },
      "execution_count": null,
      "outputs": []
    },
    {
      "cell_type": "code",
      "source": [
        "# Feature selection\n",
        "features = ['Age', 'Fare', 'sibsp', 'Parch', 'Pclass', 'Sex_1', 'Embarked_1.0', 'Embarked_2.0']\n",
        "X = data[features]\n",
        "y = data['Survived']\n",
        "\n"
      ],
      "metadata": {
        "id": "ZUzVOYy6BGVH"
      },
      "execution_count": null,
      "outputs": []
    },
    {
      "cell_type": "code",
      "source": [
        "# Split the data\n",
        "X_train, X_test, y_train, y_test = train_test_split(X, y, test_size=0.2, random_state=42)\n",
        "\n",
        "# Train the model\n",
        "model = RandomForestClassifier(n_estimators=100, random_state=42)\n",
        "model.fit(X_train, y_train)\n",
        "\n",
        "# Predict and evaluate\n",
        "y_pred = model.predict(X_test)\n",
        "accuracy = accuracy_score(y_test, y_pred)\n",
        "print(f'Accuracy: {accuracy:.2f}')\n",
        "\n",
        "# Detailed classification report\n",
        "print(classification_report(y_test, y_pred))\n",
        "\n",
        "# Feature importance\n",
        "importances = model.feature_importances_\n",
        "feature_importance = pd.DataFrame({'feature': features, 'importance': importances})\n",
        "print(feature_importance.sort_values(by='importance', ascending=False))\n"
      ],
      "metadata": {
        "id": "dUh9Eb3sBLl2"
      },
      "execution_count": null,
      "outputs": []
    },
    {
      "cell_type": "code",
      "source": [
        "test_data = pd.DataFrame({\n",
        "    'Age': [22, 38],\n",
        "    'Fare': [7.25, 71.83],\n",
        "    'sibsp': [1, 1],\n",
        "    'Parch': [0, 0],\n",
        "    'Pclass': [3, 1],\n",
        "    'Sex_1': [1, 1],\n",
        "    'Embarked_1.0': [0, 0],\n",
        "    'Embarked_2.0': [0, 1]\n",
        "})\n",
        "\n",
        "# Ensure the order of columns in test_data matches the training data\n",
        "test_data = test_data[features]\n",
        "\n",
        "# Make prediction\n",
        "predictions = model.predict(test_data)\n",
        "print(\"Predictions (0 = Not Survived, 1 = Survived):\", predictions)"
      ],
      "metadata": {
        "id": "pHDEBvQtDcgY"
      },
      "execution_count": null,
      "outputs": []
    }
  ]
}